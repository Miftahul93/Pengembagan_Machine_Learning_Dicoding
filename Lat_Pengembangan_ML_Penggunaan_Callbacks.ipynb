{
  "nbformat": 4,
  "nbformat_minor": 0,
  "metadata": {
    "colab": {
      "name": "Lat Pengembangan ML-Penggunaan Callbacks.ipynb",
      "provenance": [],
      "collapsed_sections": [],
      "authorship_tag": "ABX9TyNOr+SuacbCwzN9W9Apnpja",
      "include_colab_link": true
    },
    "kernelspec": {
      "name": "python3",
      "display_name": "Python 3"
    },
    "language_info": {
      "name": "python"
    }
  },
  "cells": [
    {
      "cell_type": "markdown",
      "metadata": {
        "id": "view-in-github",
        "colab_type": "text"
      },
      "source": [
        "<a href=\"https://colab.research.google.com/github/Miftahul93/Pengembangan_Machine_Learning_Dicoding/blob/main/Lat_Pengembangan_ML_Penggunaan_Callbacks.ipynb\" target=\"_parent\"><img src=\"https://colab.research.google.com/assets/colab-badge.svg\" alt=\"Open In Colab\"/></a>"
      ]
    },
    {
      "cell_type": "code",
      "metadata": {
        "id": "vVAc1_cgHX4V",
        "colab": {
          "base_uri": "https://localhost:8080/"
        },
        "outputId": "e79d3a06-7b81-4191-8f6d-e223a5c491d6"
      },
      "source": [
        "# Memasang drive ke notebook google colab\n",
        "from google.colab import drive\n",
        "drive.mount('/content/gdrive')"
      ],
      "execution_count": 1,
      "outputs": [
        {
          "output_type": "stream",
          "text": [
            "Mounted at /content/gdrive\n"
          ],
          "name": "stdout"
        }
      ]
    },
    {
      "cell_type": "code",
      "metadata": {
        "colab": {
          "base_uri": "https://localhost:8080/"
        },
        "id": "2TTx9u9u1rSr",
        "outputId": "28322626-cdaa-4170-8f22-79a1151d7b2b"
      },
      "source": [
        "# Melihat daftar dataset di folder dataset ML-Dicoding\n",
        "!ls \"gdrive/MyDrive/Dataset ML-Dicoding\""
      ],
      "execution_count": 2,
      "outputs": [
        {
          "output_type": "stream",
          "text": [
            " ML-iris.zip\n",
            "'ML-Mall Customer Segmentation Data.zip'\n",
            " ML-messy-vs-clean-room.zip\n",
            "'ML-Pima Indians Diabetes Database.zip'\n",
            "'ML-Salary data - Simple linear regression.zip'\n",
            " ML-Social_Network_Ads.zip\n",
            " ML-Submission-rockpaperscissors.zip\n",
            "'Pengembangan ML'\n",
            "'Submission_ML_Dicoding_Miftahul Ulum.zip'\n"
          ],
          "name": "stdout"
        }
      ]
    },
    {
      "cell_type": "code",
      "metadata": {
        "id": "3S0B85_Ntjhn"
      },
      "source": [
        "# Unzip\n",
        "import os\n",
        "import zipfile\n",
        "\n",
        "local_zip = 'gdrive/MyDrive/Dataset ML-Dicoding/ML-iris.zip'\n",
        "zip_ref = zipfile.ZipFile(local_zip, 'r')\n",
        "zip_ref.extractall('/content/')\n",
        "zip_ref.close()"
      ],
      "execution_count": 3,
      "outputs": []
    },
    {
      "cell_type": "code",
      "metadata": {
        "id": "7jmOqaiyjsdq"
      },
      "source": [
        "# Import library yang dibutuhkan\n",
        "import tensorflow as tf\n",
        "import pandas as pd\n",
        "from sklearn import preprocessing\n",
        "from sklearn.model_selection import train_test_split\n",
        "from keras.models import Sequential\n",
        "from keras.layers import Dense\n",
        "\n",
        "# Load dataset menjadi dataframe\n",
        "df = pd.read_csv('Iris.csv')\n",
        "\n",
        "# Menghapus kolom id\n",
        "df = df.drop(columns='Id')\n",
        "\n",
        "#one hot encoding\n",
        "category = pd.get_dummies(df.Species)\n",
        "new_df = pd.concat([df, category], axis=1)\n",
        "new_df = new_df.drop(columns='Species')\n",
        "\n",
        "# Menentukan label dan target \n",
        "dataset = new_df.values\n",
        "x = dataset[:,0:4]\n",
        "y = dataset[:,4:7]\n",
        "\n",
        "# Normalisasi\n",
        "min_max_scaler = preprocessing.MinMaxScaler()\n",
        "X_scale = min_max_scaler.fit_transform(x)\n",
        "\n",
        "# Bagi dataset 30% untuk test\n",
        "X_train, X_test, Y_train, Y_test = train_test_split(X_scale, y, test_size=0.3)\n",
        "\n",
        "# Membuat model\n",
        "model = Sequential([Dense(64, activation='relu', input_shape=(4,)),\n",
        "                    Dense(64, activation='relu'),\n",
        "                    Dense(3, activation='sigmoid'),])\n",
        "\n",
        "# Menentukan compile\n",
        "model.compile(optimizer='Adam',\n",
        "              loss='categorical_crossentropy',\n",
        "              metrics=['accuracy'])"
      ],
      "execution_count": 16,
      "outputs": []
    },
    {
      "cell_type": "markdown",
      "metadata": {
        "id": "cupqjEZX8ypS"
      },
      "source": [
        "Selanjutnya kita buat kelas callback. Pada baris pertama lihatlah  bahwa kelas callback kita harus inherit tf.keras.callbacks.Callback. Selanjutnya kita buat fungsi yang paling penting yaitu on_epoch_end(). Fungsi inilah yang akan kita gunakan untuk memberitahu model agar berhenti melakukan pelatihan ketika telah mencapai target.\n",
        "\n",
        "Selanjutnya kode if(logs.get(‘accuracy’)>0.9) sangat intuitif menunjukkan kalau kode itu memiliki arti “jika akurasi lebih besar dari 0.9 maka eksekusi perintah berikutnya”. Kita juga dapat menulis kode print(“\\nAkurasi telah mencapai >90%!”) untuk ditampilkan ketika callback aktif.\n",
        "\n",
        "Kode self.model.stop_training = True adalah kode yang memberi tahu model untuk menghentikan pelatihan. Setelah kelas ini dibuat kita buat objek dari kelas tersebut."
      ]
    },
    {
      "cell_type": "code",
      "metadata": {
        "id": "9CNb7dt380D9"
      },
      "source": [
        "class myCallback(tf.keras.callbacks.Callback):\n",
        "  def on_epoch_end(self, epoch, logs={}):\n",
        "    if(logs.get('accuracy')>0.9):\n",
        "      print(\"\\n Akurasi telah mencapai >90%!\")\n",
        "      self.model.stop_training = True\n",
        "callbacks = myCallback()"
      ],
      "execution_count": 17,
      "outputs": []
    },
    {
      "cell_type": "markdown",
      "metadata": {
        "id": "27yAzkmC-wqQ"
      },
      "source": [
        "Untuk menggunakan callback sangat gampang, kita hanya perlu menambahkan parameter callback dan mengisi objek callback yang telah kita buat pada parameter tersebut."
      ]
    },
    {
      "cell_type": "code",
      "metadata": {
        "colab": {
          "base_uri": "https://localhost:8080/"
        },
        "id": "K04AhzDa-0L-",
        "outputId": "b64ed86a-51a0-48ae-e7f2-a1dea9255996"
      },
      "source": [
        "# Melatih model menggunakan metode callback\n",
        "hist = model.fit(X_train, Y_train, epochs=50, callbacks=[callbacks])"
      ],
      "execution_count": 18,
      "outputs": [
        {
          "output_type": "stream",
          "text": [
            "Epoch 1/50\n",
            "4/4 [==============================] - 1s 5ms/step - loss: 1.1154 - accuracy: 0.3357\n",
            "Epoch 2/50\n",
            "4/4 [==============================] - 0s 4ms/step - loss: 1.0692 - accuracy: 0.7055\n",
            "Epoch 3/50\n",
            "4/4 [==============================] - 0s 5ms/step - loss: 1.0300 - accuracy: 0.6847\n",
            "Epoch 4/50\n",
            "4/4 [==============================] - 0s 6ms/step - loss: 0.9941 - accuracy: 0.6653\n",
            "Epoch 5/50\n",
            "4/4 [==============================] - 0s 4ms/step - loss: 0.9657 - accuracy: 0.6371\n",
            "Epoch 6/50\n",
            "4/4 [==============================] - 0s 6ms/step - loss: 0.9274 - accuracy: 0.6601\n",
            "Epoch 7/50\n",
            "4/4 [==============================] - 0s 5ms/step - loss: 0.8879 - accuracy: 0.6944\n",
            "Epoch 8/50\n",
            "4/4 [==============================] - 0s 5ms/step - loss: 0.8556 - accuracy: 0.6590\n",
            "Epoch 9/50\n",
            "4/4 [==============================] - 0s 5ms/step - loss: 0.8136 - accuracy: 0.7066\n",
            "Epoch 10/50\n",
            "4/4 [==============================] - 0s 5ms/step - loss: 0.7872 - accuracy: 0.6743\n",
            "Epoch 11/50\n",
            "4/4 [==============================] - 0s 6ms/step - loss: 0.7460 - accuracy: 0.6847\n",
            "Epoch 12/50\n",
            "4/4 [==============================] - 0s 7ms/step - loss: 0.7148 - accuracy: 0.6753\n",
            "Epoch 13/50\n",
            "4/4 [==============================] - 0s 4ms/step - loss: 0.6772 - accuracy: 0.6910\n",
            "Epoch 14/50\n",
            "4/4 [==============================] - 0s 4ms/step - loss: 0.6503 - accuracy: 0.6753\n",
            "Epoch 15/50\n",
            "4/4 [==============================] - 0s 4ms/step - loss: 0.6222 - accuracy: 0.6607\n",
            "Epoch 16/50\n",
            "4/4 [==============================] - 0s 4ms/step - loss: 0.5892 - accuracy: 0.6920\n",
            "Epoch 17/50\n",
            "4/4 [==============================] - 0s 4ms/step - loss: 0.5686 - accuracy: 0.6868\n",
            "Epoch 18/50\n",
            "4/4 [==============================] - 0s 6ms/step - loss: 0.5389 - accuracy: 0.6701\n",
            "Epoch 19/50\n",
            "4/4 [==============================] - 0s 5ms/step - loss: 0.5114 - accuracy: 0.6941\n",
            "Epoch 20/50\n",
            "4/4 [==============================] - 0s 8ms/step - loss: 0.4915 - accuracy: 0.6753\n",
            "Epoch 21/50\n",
            "4/4 [==============================] - 0s 4ms/step - loss: 0.4689 - accuracy: 0.7222\n",
            "Epoch 22/50\n",
            "4/4 [==============================] - 0s 4ms/step - loss: 0.4704 - accuracy: 0.7149\n",
            "Epoch 23/50\n",
            "4/4 [==============================] - 0s 3ms/step - loss: 0.4335 - accuracy: 0.8179\n",
            "Epoch 24/50\n",
            "4/4 [==============================] - 0s 4ms/step - loss: 0.4201 - accuracy: 0.8939\n",
            "Epoch 25/50\n",
            "4/4 [==============================] - 0s 4ms/step - loss: 0.4173 - accuracy: 0.9178\n",
            "\n",
            " Akurasi telah mencapai >90%!\n"
          ],
          "name": "stdout"
        }
      ]
    },
    {
      "cell_type": "code",
      "metadata": {
        "id": "w166ukPtrNA5"
      },
      "source": [
        "# Import library matplotlib\n",
        "import matplotlib.pyplot as plt"
      ],
      "execution_count": 13,
      "outputs": []
    },
    {
      "cell_type": "code",
      "metadata": {
        "colab": {
          "base_uri": "https://localhost:8080/",
          "height": 295
        },
        "id": "oR_v3Q27rtRI",
        "outputId": "e107001e-59da-4000-ec89-f74767092a82"
      },
      "source": [
        "plt.plot(hist.history['loss'])\n",
        "plt.title('Model Loss')\n",
        "plt.ylabel('Loss')\n",
        "plt.xlabel('Epoch')\n",
        "plt.legend(['Train'], loc='upper right')\n",
        "plt.show()"
      ],
      "execution_count": 19,
      "outputs": [
        {
          "output_type": "display_data",
          "data": {
            "image/png": "[encoded data removed]",
            "text/plain": [
              "<Figure size 432x288 with 1 Axes>"
            ]
          },
          "metadata": {
            "tags": [],
            "needs_background": "light"
          }
        }
      ]
    },
    {
      "cell_type": "code",
      "metadata": {
        "colab": {
          "base_uri": "https://localhost:8080/",
          "height": 312
        },
        "id": "7jrpQtqhuljk",
        "outputId": "742d7d40-230b-47a4-f0e6-df43fbf3bcd1"
      },
      "source": [
        "plt.plot(hist.history['accuracy'])\n",
        "plt.title('Model Accuracy')\n",
        "plt.ylabel('Accuracy')\n",
        "plt.xlabel('Epoch')\n",
        "plt.legend(['Train'], loc='lower right')\n",
        "plt.show"
      ],
      "execution_count": 20,
      "outputs": [
        {
          "output_type": "execute_result",
          "data": {
            "text/plain": [
              "<function matplotlib.pyplot.show>"
            ]
          },
          "metadata": {
            "tags": []
          },
          "execution_count": 20
        },
        {
          "output_type": "display_data",
          "data": {
            "image/png": "[encoded data removed]",
            "text/plain": [
              "<Figure size 432x288 with 1 Axes>"
            ]
          },
          "metadata": {
            "tags": [],
            "needs_background": "light"
          }
        }
      ]
    }
  ]
}